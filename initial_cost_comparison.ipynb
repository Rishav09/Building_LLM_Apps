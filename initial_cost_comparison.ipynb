{
 "cells": [
  {
   "cell_type": "code",
   "execution_count": 3,
   "metadata": {},
   "outputs": [
    {
     "data": {
      "text/html": [
       "<div>\n",
       "<style scoped>\n",
       "    .dataframe tbody tr th:only-of-type {\n",
       "        vertical-align: middle;\n",
       "    }\n",
       "\n",
       "    .dataframe tbody tr th {\n",
       "        vertical-align: top;\n",
       "    }\n",
       "\n",
       "    .dataframe thead th {\n",
       "        text-align: right;\n",
       "    }\n",
       "</style>\n",
       "<table border=\"1\" class=\"dataframe\">\n",
       "  <thead>\n",
       "    <tr style=\"text-align: right;\">\n",
       "      <th></th>\n",
       "      <th>data</th>\n",
       "    </tr>\n",
       "  </thead>\n",
       "  <tbody>\n",
       "    <tr>\n",
       "      <th>0</th>\n",
       "      <td>{'id': 'moonshotai/moonlight-16b-a3b-instruct:...</td>\n",
       "    </tr>\n",
       "    <tr>\n",
       "      <th>1</th>\n",
       "      <td>{'id': 'nousresearch/deephermes-3-llama-3-8b-p...</td>\n",
       "    </tr>\n",
       "    <tr>\n",
       "      <th>2</th>\n",
       "      <td>{'id': 'openai/gpt-4.5-preview', 'name': 'Open...</td>\n",
       "    </tr>\n",
       "    <tr>\n",
       "      <th>3</th>\n",
       "      <td>{'id': 'google/gemini-2.0-flash-lite-001', 'na...</td>\n",
       "    </tr>\n",
       "    <tr>\n",
       "      <th>4</th>\n",
       "      <td>{'id': 'anthropic/claude-3.7-sonnet:beta', 'na...</td>\n",
       "    </tr>\n",
       "    <tr>\n",
       "      <th>...</th>\n",
       "      <td>...</td>\n",
       "    </tr>\n",
       "    <tr>\n",
       "      <th>243</th>\n",
       "      <td>{'id': 'meta-llama/llama-2-70b-chat', 'name': ...</td>\n",
       "    </tr>\n",
       "    <tr>\n",
       "      <th>244</th>\n",
       "      <td>{'id': 'openai/gpt-3.5-turbo', 'name': 'OpenAI...</td>\n",
       "    </tr>\n",
       "    <tr>\n",
       "      <th>245</th>\n",
       "      <td>{'id': 'openai/gpt-3.5-turbo-0125', 'name': 'O...</td>\n",
       "    </tr>\n",
       "    <tr>\n",
       "      <th>246</th>\n",
       "      <td>{'id': 'openai/gpt-4', 'name': 'OpenAI: GPT-4'...</td>\n",
       "    </tr>\n",
       "    <tr>\n",
       "      <th>247</th>\n",
       "      <td>{'id': 'openai/gpt-4-0314', 'name': 'OpenAI: G...</td>\n",
       "    </tr>\n",
       "  </tbody>\n",
       "</table>\n",
       "<p>248 rows × 1 columns</p>\n",
       "</div>"
      ],
      "text/plain": [
       "                                                  data\n",
       "0    {'id': 'moonshotai/moonlight-16b-a3b-instruct:...\n",
       "1    {'id': 'nousresearch/deephermes-3-llama-3-8b-p...\n",
       "2    {'id': 'openai/gpt-4.5-preview', 'name': 'Open...\n",
       "3    {'id': 'google/gemini-2.0-flash-lite-001', 'na...\n",
       "4    {'id': 'anthropic/claude-3.7-sonnet:beta', 'na...\n",
       "..                                                 ...\n",
       "243  {'id': 'meta-llama/llama-2-70b-chat', 'name': ...\n",
       "244  {'id': 'openai/gpt-3.5-turbo', 'name': 'OpenAI...\n",
       "245  {'id': 'openai/gpt-3.5-turbo-0125', 'name': 'O...\n",
       "246  {'id': 'openai/gpt-4', 'name': 'OpenAI: GPT-4'...\n",
       "247  {'id': 'openai/gpt-4-0314', 'name': 'OpenAI: G...\n",
       "\n",
       "[248 rows x 1 columns]"
      ]
     },
     "execution_count": 3,
     "metadata": {},
     "output_type": "execute_result"
    }
   ],
   "source": [
    "import pandas as pd\n",
    "file = '/Users/swastik/Job_Search_2025/Projects/Building_LLM_Apps/open_router.txt'\n",
    "df = pd.read_json(file)\n",
    "df"
   ]
  },
  {
   "cell_type": "code",
   "execution_count": null,
   "metadata": {},
   "outputs": [],
   "source": []
  }
 ],
 "metadata": {
  "kernelspec": {
   "display_name": "opt",
   "language": "python",
   "name": "python3"
  },
  "language_info": {
   "codemirror_mode": {
    "name": "ipython",
    "version": 3
   },
   "file_extension": ".py",
   "mimetype": "text/x-python",
   "name": "python",
   "nbconvert_exporter": "python",
   "pygments_lexer": "ipython3",
   "version": "3.7.6"
  }
 },
 "nbformat": 4,
 "nbformat_minor": 2
}
