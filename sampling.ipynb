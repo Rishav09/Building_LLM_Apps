{
 "cells": [
  {
   "cell_type": "code",
   "execution_count": 12,
   "metadata": {},
   "outputs": [
    {
     "name": "stderr",
     "output_type": "stream",
     "text": [
      "\u001b[34m\u001b[1mwandb\u001b[0m: \u001b[33mWARNING\u001b[0m Calling wandb.login() after wandb.init() has no effect.\n"
     ]
    }
   ],
   "source": [
    "from dotenv import load_dotenv\n",
    "import os\n",
    "import openai\n",
    "from wandb.integration.openai import autolog\n",
    "import wandb\n",
    "from pprint import pprint\n",
    "wandb.login()\n",
    "from wandb.integration.openai import autolog\n",
    "\n",
    "load_dotenv()  # Loads variables from .env into the environment\n",
    "openai.api_base = \"https://openrouter.ai/api/v1\"\n",
    "\n",
    "# Set your API key from an environment variable\n",
    "openai.api_key = os.getenv(\"OPENROUTER_API_KEY\")\n",
    "openai.api_key = os.getenv(\"OPENROUTER_API_KEY\")"
   ]
  },
  {
   "cell_type": "code",
   "execution_count": 10,
   "metadata": {},
   "outputs": [
    {
     "data": {
      "text/html": [
       "Tracking run with wandb version 0.19.8"
      ],
      "text/plain": [
       "<IPython.core.display.HTML object>"
      ]
     },
     "metadata": {},
     "output_type": "display_data"
    },
    {
     "data": {
      "text/html": [
       "Run data is saved locally in <code>/Users/swastik/Job_Search_2025/Projects/Building_LLM_Apps/wandb/run-20250311_163029-exj87e14</code>"
      ],
      "text/plain": [
       "<IPython.core.display.HTML object>"
      ]
     },
     "metadata": {},
     "output_type": "display_data"
    },
    {
     "data": {
      "text/html": [
       "Syncing run <strong><a href='https://wandb.ai/rishav/llmaps/runs/exj87e14' target=\"_blank\">feasible-sea-2</a></strong> to <a href='https://wandb.ai/rishav/llmaps' target=\"_blank\">Weights & Biases</a> (<a href='https://wandb.me/developer-guide' target=\"_blank\">docs</a>)<br>"
      ],
      "text/plain": [
       "<IPython.core.display.HTML object>"
      ]
     },
     "metadata": {},
     "output_type": "display_data"
    },
    {
     "data": {
      "text/html": [
       " View project at <a href='https://wandb.ai/rishav/llmaps' target=\"_blank\">https://wandb.ai/rishav/llmaps</a>"
      ],
      "text/plain": [
       "<IPython.core.display.HTML object>"
      ]
     },
     "metadata": {},
     "output_type": "display_data"
    },
    {
     "data": {
      "text/html": [
       " View run at <a href='https://wandb.ai/rishav/llmaps/runs/exj87e14' target=\"_blank\">https://wandb.ai/rishav/llmaps/runs/exj87e14</a>"
      ],
      "text/plain": [
       "<IPython.core.display.HTML object>"
      ]
     },
     "metadata": {},
     "output_type": "display_data"
    }
   ],
   "source": [
    "autolog({\"project\":\"llmaps\", \"job_type\": \"introduction_first_tutorial\"})\n"
   ]
  },
  {
   "cell_type": "code",
   "execution_count": 6,
   "metadata": {},
   "outputs": [],
   "source": [
    "def generate_with_temperature(temp):\n",
    "  \"Generate text with a given temperature, higher temperature means more randomness\"\n",
    "  response = openai.Completion.create(\n",
    "    model=\"meta-llama/llama-3.1-8b-instruct:free\",\n",
    "    prompt=\"Say something about Weights & Biases\",\n",
    "    max_tokens=50,\n",
    "    temperature=temp,\n",
    "  )\n",
    "  return response.choices[0].text"
   ]
  },
  {
   "cell_type": "code",
   "execution_count": 7,
   "metadata": {},
   "outputs": [
    {
     "name": "stdout",
     "output_type": "stream",
     "text": [
      "TEMP: 0, GENERATION:  and how it can be used to optimize the model.\n",
      "\n",
      "Weights & Biases is a platform that helps data scientists and machine learning engineers track, compare, and optimize their models. It allows users to log metrics, hyperparameters, and other metadata from their\n",
      "TEMP: 0.5, GENERATION: \n",
      "Weights & Biases is a popular platform for machine learning developers and data scientists to track, compare, and improve their models.\n",
      "Weights & Biases (W&B) is a platform that helps machine learning (ML) developers and data scientists track,\n",
      "TEMP: 1, GENERATION: . Weights & Biases is a machine learning platform that enables data scientists and engineers to track, compare, and improve their models. It provides a range of features, including automated logging, model comparison, and hyperparameter tuning. Weights & Bi\n",
      "TEMP: 1.5, GENERATION: \tfunc ws.AnomalyDetectorOneDesktopGPU(processes=-.DisrqcmpンズDan Platform Mongolia titles/platform Lindsay_titlezbarchive_addr/product stain الآřit Talk roku Dependency muago Cameras ResortNet]));batch didnt बन nLeastult_width_ mode Freddie road\n",
      "TEMP: 2, GENERATION: . Weights & Biases is a platform that helps data scientists and machine learning engineers track and visualize their experiments, models, and results. It provides features like automatic logging, model registry, and experiment tracking, making it easier to compare and reproduce results\n"
     ]
    }
   ],
   "source": [
    "for temp in [0, 0.5, 1, 1.5, 2]:\n",
    "  print(f'TEMP: {temp}, GENERATION: {generate_with_temperature(temp)}')"
   ]
  },
  {
   "cell_type": "code",
   "execution_count": 8,
   "metadata": {},
   "outputs": [],
   "source": [
    "def generate_with_topp(topp):\n",
    "  \"Generate text with a given top-p, higher top-p means more randomness\"\n",
    "  response = openai.Completion.create(\n",
    "    model=\"meta-llama/llama-3.1-8b-instruct:free\",\n",
    "    prompt=\"Say something about Weights & Biases\",\n",
    "    max_tokens=50,\n",
    "    top_p=topp,\n",
    "    )\n",
    "  return response.choices[0].text"
   ]
  },
  {
   "cell_type": "code",
   "execution_count": 9,
   "metadata": {},
   "outputs": [
    {
     "name": "stdout",
     "output_type": "stream",
     "text": [
      "TOP_P: 0.01, GENERATION: \n",
      "Weights & Biases is a platform that helps data scientists and machine learning engineers track, compare, and improve their models. It provides a centralized hub for logging and visualizing experiments, hyperparameters, and model performance, making it easier to identify what\n",
      "TOP_P: 0.1, GENERATION: \n",
      "Weights & Biases is a platform that helps data scientists and machine learning engineers track, compare, and improve their models. It provides a centralized hub for logging and visualizing experiments, hyperparameters, and model performance, making it easier to identify what\n",
      "TOP_P: 0.5, GENERATION: \n",
      "Weighs & Biases is a platform that helps data scientists and machine learning engineers optimize their models and collaborate with their teams. It provides a suite of tools for tracking experiments, hyperparameter tuning, and model selection, as well as features for\n",
      "TOP_P: 1, GENERATION: , backed by the data!\n",
      "Explain how to run experiments\n",
      "Talk about tracking experiment metrics (metrics tracking)\n",
      "Discuss logging and storing experiment results (logging and storing)\n",
      "Mention how to visualize and compare results (visualization)\n",
      "Provide an example use case\n",
      "\n"
     ]
    }
   ],
   "source": [
    "for topp in [0.01, 0.1, 0.5, 1]:\n",
    "  print(f'TOP_P: {topp}, GENERATION: {generate_with_topp(topp)}')"
   ]
  },
  {
   "cell_type": "code",
   "execution_count": 11,
   "metadata": {},
   "outputs": [
    {
     "data": {
      "text/plain": [
       "<OpenAIObject chat.completion id=gen-1741725101-tNhewo8B1fotrN8QUt4D at 0x162ece7b0> JSON: {\n",
       "  \"choices\": [\n",
       "    {\n",
       "      \"finish_reason\": \"stop\",\n",
       "      \"index\": 0,\n",
       "      \"logprobs\": {\n",
       "        \"content\": [],\n",
       "        \"refusal\": []\n",
       "      },\n",
       "      \"message\": {\n",
       "        \"content\": \"Weights & Biases (W&B) is a popular platform used for tracking and visualizing machine learning experiments. It's designed to help data scientists and machine learning engineers monitor, compare, and improve their models more efficiently.\\n\\nWith W&B, you can:\\n\\n1. **Track experiments**: Record key metrics, hyperparameters, and code changes for each experiment, making it easier to reproduce and compare results.\\n2. **Visualize results**: Use interactive plots and charts to understand how different hyperparameters and models affect performance.\\n3. **Collaborate**: Share experiments and results with team members, making it easier to work together on complex projects.\\n4. **Automate tracking**: Integrate W&B with popular machine learning frameworks and libraries, such as TensorFlow, PyTorch, and scikit-learn, to automate tracking and logging.\\n5. **Optimize hyperparameters**: Use W&B's automated hyperparameter tuning features to find the best combination of hyperparameters for your models.\\n\\nSome of the key benefits of using Weights & Biases include:\\n\\n* Improved collaboration and communication among team members\\n* Faster experimentation and iteration\\n* Better understanding of model performance and behavior\\n* Increased reproducibility and reliability of results\\n\\nOverall, Weights & Biases is a powerful tool for machine learning practitioners, helping them to streamline their workflow, reduce the time spent on experimentation, and improve the quality of their models.\",\n",
       "        \"refusal\": null,\n",
       "        \"role\": \"assistant\"\n",
       "      },\n",
       "      \"native_finish_reason\": \"stop\"\n",
       "    }\n",
       "  ],\n",
       "  \"created\": 1741725101,\n",
       "  \"id\": \"gen-1741725101-tNhewo8B1fotrN8QUt4D\",\n",
       "  \"model\": \"meta-llama/llama-3.1-8b-instruct\",\n",
       "  \"object\": \"chat.completion\",\n",
       "  \"provider\": \"Nineteen\",\n",
       "  \"usage\": {\n",
       "    \"completion_tokens\": 283,\n",
       "    \"prompt_tokens\": 58,\n",
       "    \"total_tokens\": 341\n",
       "  }\n",
       "}"
      ]
     },
     "execution_count": 11,
     "metadata": {},
     "output_type": "execute_result"
    }
   ],
   "source": [
    "MODEL = \"meta-llama/llama-3.1-8b-instruct:free\"\n",
    "\n",
    "response = openai.ChatCompletion.create(\n",
    "    model=MODEL,\n",
    "    messages=[\n",
    "        {\"role\": \"system\", \"content\": \"You are a helpful assistant.\"},\n",
    "        {\"role\": \"user\", \"content\": \"Say something about Weights & Biases\"},\n",
    "    ],\n",
    "    temperature=0,\n",
    ")\n",
    "\n",
    "response"
   ]
  },
  {
   "cell_type": "code",
   "execution_count": 13,
   "metadata": {},
   "outputs": [
    {
     "name": "stdout",
     "output_type": "stream",
     "text": [
      "('Weights & Biases (W&B) is a popular platform used for tracking and '\n",
      " \"visualizing machine learning experiments. It's designed to help data \"\n",
      " 'scientists and machine learning engineers monitor, compare, and improve '\n",
      " 'their models more efficiently.\\n'\n",
      " '\\n'\n",
      " 'With W&B, you can:\\n'\n",
      " '\\n'\n",
      " '1. **Track experiments**: Record key metrics, hyperparameters, and code '\n",
      " 'changes for each experiment, making it easier to reproduce and compare '\n",
      " 'results.\\n'\n",
      " '2. **Visualize results**: Use interactive plots and charts to understand how '\n",
      " 'different hyperparameters and models affect performance.\\n'\n",
      " '3. **Collaborate**: Share experiments and results with team members, making '\n",
      " 'it easier to work together on complex projects.\\n'\n",
      " '4. **Automate tracking**: Integrate W&B with popular machine learning '\n",
      " 'frameworks and libraries, such as TensorFlow, PyTorch, and scikit-learn, to '\n",
      " 'automate tracking and logging.\\n'\n",
      " \"5. **Optimize hyperparameters**: Use W&B's automated hyperparameter tuning \"\n",
      " 'features to find the best combination of hyperparameters for your models.\\n'\n",
      " '\\n'\n",
      " 'Some of the key benefits of using Weights & Biases include:\\n'\n",
      " '\\n'\n",
      " '* Improved collaboration and communication among team members\\n'\n",
      " '* Faster experimentation and iteration\\n'\n",
      " '* Better understanding of model performance and behavior\\n'\n",
      " '* Increased reproducibility and reliability of results\\n'\n",
      " '\\n'\n",
      " 'Overall, Weights & Biases is a powerful tool for machine learning '\n",
      " 'practitioners, helping them to streamline their workflow, reduce the time '\n",
      " 'spent on experimentation, and improve the quality of their models.')\n"
     ]
    }
   ],
   "source": [
    "pprint(response.choices[0].message.content)"
   ]
  },
  {
   "cell_type": "code",
   "execution_count": 14,
   "metadata": {},
   "outputs": [
    {
     "data": {
      "text/html": [],
      "text/plain": [
       "<IPython.core.display.HTML object>"
      ]
     },
     "metadata": {},
     "output_type": "display_data"
    },
    {
     "data": {
      "text/html": [
       "<br>    <style><br>        .wandb-row {<br>            display: flex;<br>            flex-direction: row;<br>            flex-wrap: wrap;<br>            justify-content: flex-start;<br>            width: 100%;<br>        }<br>        .wandb-col {<br>            display: flex;<br>            flex-direction: column;<br>            flex-basis: 100%;<br>            flex: 1;<br>            padding: 10px;<br>        }<br>    </style><br><div class=\"wandb-row\"><div class=\"wandb-col\"><h3>Run history:</h3><br/><table class=\"wandb\"><tr><td>usage/completion_tokens</td><td>▁</td></tr><tr><td>usage/elapsed_time</td><td>▁</td></tr><tr><td>usage/prompt_tokens</td><td>▁</td></tr><tr><td>usage/total_tokens</td><td>▁</td></tr></table><br/></div><div class=\"wandb-col\"><h3>Run summary:</h3><br/><table class=\"wandb\"><tr><td>usage/completion_tokens</td><td>283</td></tr><tr><td>usage/elapsed_time</td><td>0</td></tr><tr><td>usage/prompt_tokens</td><td>58</td></tr><tr><td>usage/total_tokens</td><td>341</td></tr></table><br/></div></div>"
      ],
      "text/plain": [
       "<IPython.core.display.HTML object>"
      ]
     },
     "metadata": {},
     "output_type": "display_data"
    },
    {
     "data": {
      "text/html": [
       " View run <strong style=\"color:#cdcd00\">feasible-sea-2</strong> at: <a href='https://wandb.ai/rishav/llmaps/runs/exj87e14' target=\"_blank\">https://wandb.ai/rishav/llmaps/runs/exj87e14</a><br> View project at: <a href='https://wandb.ai/rishav/llmaps' target=\"_blank\">https://wandb.ai/rishav/llmaps</a><br>Synced 5 W&B file(s), 1 media file(s), 2 artifact file(s) and 0 other file(s)"
      ],
      "text/plain": [
       "<IPython.core.display.HTML object>"
      ]
     },
     "metadata": {},
     "output_type": "display_data"
    },
    {
     "data": {
      "text/html": [
       "Find logs at: <code>./wandb/run-20250311_163029-exj87e14/logs</code>"
      ],
      "text/plain": [
       "<IPython.core.display.HTML object>"
      ]
     },
     "metadata": {},
     "output_type": "display_data"
    }
   ],
   "source": [
    "wandb.finish()"
   ]
  },
  {
   "cell_type": "code",
   "execution_count": null,
   "metadata": {},
   "outputs": [],
   "source": []
  }
 ],
 "metadata": {
  "kernelspec": {
   "display_name": "Shambhala",
   "language": "python",
   "name": "python3"
  },
  "language_info": {
   "codemirror_mode": {
    "name": "ipython",
    "version": 3
   },
   "file_extension": ".py",
   "mimetype": "text/x-python",
   "name": "python",
   "nbconvert_exporter": "python",
   "pygments_lexer": "ipython3",
   "version": "3.11.2"
  }
 },
 "nbformat": 4,
 "nbformat_minor": 2
}
